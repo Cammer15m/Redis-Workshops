{
  "cells": [
    {
      "attachments": {},
      "cell_type": "markdown",
      "metadata": {
        "colab_type": "text",
        "id": "view-in-github"
      },
      "source": [
        "<a href=\"https://colab.research.google.com/github/antonum/Redis-Workshops/blob/main/01-RedisJSON_Search/01-RedisJSON_Search.ipynb\" target=\"_parent\"><img src=\"https://colab.research.google.com/assets/colab-badge.svg\" alt=\"Open In Colab\"/></a>"
      ]
    },
    {
      "attachments": {},
      "cell_type": "markdown",
      "metadata": {
        "id": "LDFnzeLwjmXL"
      },
      "source": [
        "# RedisJSON and RediSearch\n",
        "\n",
        "![Redis](https://redis.com/wp-content/themes/wpx/assets/images/logo-redis.svg?auto=webp&quality=85,75&width=120)\n",
        "\n",
        "This notebook is an adapted and simplified version of the RedisInsight QuickGuide \"Working with JSON\".\n",
        "\n",
        "For the full exterience we'd recommend installing Redis Insight and going through tutorial there.\n",
        "\n",
        "https://redis.com/redis-enterprise/redis-insight/"
      ]
    },
    {
      "cell_type": "code",
      "execution_count": null,
      "metadata": {
        "colab": {
          "base_uri": "https://localhost:8080/"
        },
        "id": "maAiICvM-cTX",
        "outputId": "c9b97df5-f796-4055-c6e1-e909acef5816"
      },
      "outputs": [
        {
          "name": "stdout",
          "output_type": "stream",
          "text": [
            "\u001b[?25l     \u001b[90m━━━━━━━━━━━━━━━━━━━━━━━━━━━━━━━━━━━━━━━━\u001b[0m \u001b[32m0.0/240.3 kB\u001b[0m \u001b[31m?\u001b[0m eta \u001b[36m-:--:--\u001b[0m\r\u001b[2K     \u001b[91m━━━━━━━━━━━━━━━━━━━━━━━━━━━━━━━━━━━━━\u001b[0m\u001b[90m╺\u001b[0m \u001b[32m235.5/240.3 kB\u001b[0m \u001b[31m10.4 MB/s\u001b[0m eta \u001b[36m0:00:01\u001b[0m\r\u001b[2K     \u001b[90m━━━━━━━━━━━━━━━━━━━━━━━━━━━━━━━━━━━━━━━\u001b[0m \u001b[32m240.3/240.3 kB\u001b[0m \u001b[31m4.3 MB/s\u001b[0m eta \u001b[36m0:00:00\u001b[0m\n",
            "\u001b[?25h"
          ]
        }
      ],
      "source": [
        "# Install the requirements\n",
        "!pip install -q redis"
      ]
    },
    {
      "cell_type": "code",
      "execution_count": null,
      "metadata": {
        "colab": {
          "base_uri": "https://localhost:8080/"
        },
        "id": "6CjMuWlOxYoZ",
        "outputId": "ad78d8bd-4bf4-4254-82a1-55f8d961cd95"
      },
      "outputs": [
        {
          "name": "stdout",
          "output_type": "stream",
          "text": [
            "deb [signed-by=/usr/share/keyrings/redis-archive-keyring.gpg] https://packages.redis.io/deb focal main\n",
            "Starting redis-stack-server, database path /var/lib/redis-stack\n"
          ]
        }
      ],
      "source": [
        "%%sh\n",
        "curl -fsSL https://packages.redis.io/gpg | sudo gpg --dearmor -o /usr/share/keyrings/redis-archive-keyring.gpg \n",
        "echo \"deb [signed-by=/usr/share/keyrings/redis-archive-keyring.gpg] https://packages.redis.io/deb $(lsb_release -cs) main\" | sudo tee /etc/apt/sources.list.d/redis.list \n",
        "sudo apt-get update  > /dev/null 2>&1\n",
        "sudo apt-get install redis-stack-server  > /dev/null 2>&1\n",
        "redis-stack-server --daemonize yes \n"
      ]
    },
    {
      "cell_type": "code",
      "execution_count": null,
      "metadata": {
        "id": "zfpejTkuASuZ"
      },
      "outputs": [],
      "source": [
        "import redis\n",
        "import os\n"
      ]
    },
    {
      "cell_type": "code",
      "execution_count": null,
      "metadata": {
        "id": "x47s7mlR_zYB"
      },
      "outputs": [],
      "source": [
        "REDIS_HOST = os.getenv(\"REDIS_HOST\", \"localhost\")\n",
        "REDIS_PORT = os.getenv(\"REDIS_PORT\", \"6379\")\n",
        "REDIS_PASSWORD = os.getenv(\"REDIS_PASSWORD\", \"\")\n",
        "#Replace values above with your own if using Redis Cloud instance\n",
        "#REDIS_HOST=\"redis-12110.c82.us-east-1-2.ec2.cloud.redislabs.com\"\n",
        "#REDIS_PORT=12110\n",
        "#REDIS_PASSWORD=\"pobhBJP7Psicp2gV0iqa2ZOc1XXXXXX\"\n",
        "\n",
        "#shortcut for redis-cli $REDIS_CONN command\n",
        "if REDIS_PASSWORD!=\"\":\n",
        "  os.environ[\"REDIS_CONN\"]=f\"-h {REDIS_HOST} -p {REDIS_PORT} -a {REDIS_PASSWORD} --no-auth-warning\"\n",
        "else:\n",
        "  os.environ[\"REDIS_CONN\"]=f\"-h {REDIS_HOST} -p {REDIS_PORT}\""
      ]
    },
    {
      "cell_type": "code",
      "execution_count": null,
      "metadata": {
        "colab": {
          "base_uri": "https://localhost:8080/"
        },
        "id": "DbKb8mnWQO-5",
        "outputId": "34cf192b-0a3b-41f6-b871-78a2d4658a85"
      },
      "outputs": [
        {
          "data": {
            "text/plain": [
              "True"
            ]
          },
          "execution_count": 42,
          "metadata": {},
          "output_type": "execute_result"
        }
      ],
      "source": [
        "r = redis.Redis(\n",
        "  host=REDIS_HOST,\n",
        "  port=REDIS_PORT,\n",
        "  password=REDIS_PASSWORD)\n",
        "r.ping()"
      ]
    },
    {
      "attachments": {},
      "cell_type": "markdown",
      "metadata": {
        "id": "x1V1E2Nmjva4"
      },
      "source": [
        "## RedisJSON\n",
        "\n",
        "RedisJSON adds JSON data type to Redis so you can work with JSON data natively in Redis, without treating the entire JSON as one big string and constantly serializing/deserializing JSON on the client.\n",
        "\n",
        "With cluent library like Python you can use commands like `redis.json().get()` and `redis.json().get()` and in Redis CLI `JSON.GET`, `JSON.SET` and others. \n",
        "\n",
        "See full list of RedisJSON commands here: https://redis.io/commands/?group=json \n",
        "\n",
        "Python documentation: https://redis-py.readthedocs.io/en/stable/redismodules.html#redisjson-commands\n"
      ]
    },
    {
      "cell_type": "code",
      "execution_count": null,
      "metadata": {
        "id": "dMtz_Ak7VOTk"
      },
      "outputs": [],
      "source": [
        "schools = [\n",
        "    {\"name\":\"Hall School\",\"description\":\"Spanning 10 states, this school award-winning curriculum includes a comprehensive reading system (from letter recognition and phonics to reading full-length books), as well as math, science, social studies, and even  philosophy.\",\"class\":\"independent\",\"type\":[\"traditional\"],\"address\":{\"city\":\"London\",\"street\":\"Manor Street\"},\"students\":342,\"location\":\"51.445417, -0.258352\",\"status_log\":[\"new\",\"operating\"]},\n",
        "    {\"name\":\"Garden School\",\"description\":\"Garden School is a new and innovative outdoor teaching and learning experience, offering rich and varied activities in a natural environment to children and families.\",\"class\":\"state\",\"type\":[\"forest\",\"montessori\"],\"address\":{\"city\":\"London\",\"street\":\"Gordon Street\"},\"students\":1452,\"location\":\"51.402926, -0.321523\",\"status_log\":[\"new\",\"operating\"]},\n",
        "    {\"name\":\"Gillford School\",\"description\":\"Gillford School is an inclusive learning centre welcoming people from all walks of life, here invited to step into their role as regenerative agents, creating new pathways into the future and inciting an international movement of cultural, land, and social transformation.\",\"class\":\"private\",\"type\":[\"democratic\",\"waldorf\"],\"address\":{\"city\":\"Goudhurst\",\"street\":\"Goudhurst\"},\"students\":721,\"location\":\"51.112685, 0.451076\",\"status_log\":[\"new\",\"operating\",\"closed\"]},\n",
        "    {\"name\":\"Forest School\",\"description\":\"The philosophy behind Forest School is based upon the desire to provide young children with an education that encourages appreciation of the wide world in nature while achieving independence, confidence and high self-esteem. \",\"class\":\"independent\",\"type\":[\"forest\",\"montessori\",\"democratic\"],\"address\":{\"city\":\"Oxford\",\"street\":\"Trident Street\"},\"students\":1200,\"location\":\"51.781756, -1.123196\",\"status_log\":[\"new\",\"operating\"]}\n",
        "    ]\n",
        "#load data in Redis as JSON\n",
        "for id,school in enumerate(schools):\n",
        "    #print(school)\n",
        "    r.json().set(f\"school_json:{id}\", '.', school)"
      ]
    },
    {
      "cell_type": "code",
      "execution_count": null,
      "metadata": {
        "colab": {
          "base_uri": "https://localhost:8080/"
        },
        "id": "5NtYQYlPXCIO",
        "outputId": "55ec8919-5437-4b69-dde3-14139de1c575"
      },
      "outputs": [
        {
          "name": "stdout",
          "output_type": "stream",
          "text": [
            "\"[{\\\"name\\\":\\\"Garden School\\\",\\\"description\\\":\\\"Garden School is a new and innovative outdoor teaching and learning experience, offering rich and varied activities in a natural environment to children and families.\\\",\\\"class\\\":\\\"state\\\",\\\"type\\\":[\\\"forest\\\",\\\"montessori\\\"],\\\"address\\\":{\\\"city\\\":\\\"London\\\",\\\"street\\\":\\\"Gordon Street\\\"},\\\"students\\\":1452,\\\"location\\\":\\\"51.402926, -0.321523\\\",\\\"status_log\\\":[\\\"new\\\",\\\"operating\\\"]}]\"\n",
            "1) \"school_json:{id}\"\n",
            "2) \"school_json:2\"\n",
            "3) \"school_json:0\"\n",
            "4) \"school_json:1\"\n",
            "5) \"school_json:3\"\n"
          ]
        }
      ],
      "source": [
        "!redis-cli $REDIS_CONN JSON.GET school_json:1 $\n",
        "!redis-cli $REDIS_CONN keys 'school_json:*'"
      ]
    },
    {
      "cell_type": "code",
      "execution_count": null,
      "metadata": {
        "colab": {
          "base_uri": "https://localhost:8080/"
        },
        "id": "TaXmD2TFap-t",
        "outputId": "54b612ba-f521-4355-d0f0-9f14171104ed"
      },
      "outputs": [
        {
          "name": "stdout",
          "output_type": "stream",
          "text": [
            "[{'name': 'Hall School', 'description': 'Spanning 10 states, this school award-winning curriculum includes a comprehensive reading system (from letter recognition and phonics to reading full-length books), as well as math, science, social studies, and even  philosophy.', 'class': 'independent', 'type': ['traditional'], 'address': {'city': 'London', 'street': 'Manor Street'}, 'students': 342, 'location': '51.445417, -0.258352', 'status_log': ['new', 'operating']}]\n"
          ]
        }
      ],
      "source": [
        "#retreive entire JSON\n",
        "res=r.json().get('school_json:0','$')\n",
        "print(res)\n"
      ]
    },
    {
      "cell_type": "code",
      "execution_count": null,
      "metadata": {
        "colab": {
          "base_uri": "https://localhost:8080/"
        },
        "id": "PUfj0epdWGbz",
        "outputId": "d9806ec5-2884-4b36-b7f0-869a0bb3a41d"
      },
      "outputs": [
        {
          "name": "stdout",
          "output_type": "stream",
          "text": [
            "[{'city': 'London', 'street': 'Manor Street'}]\n"
          ]
        }
      ],
      "source": [
        "#retreive single property\n",
        "res=r.json().get('school_json:0','$.name')\n",
        "print(res)\n",
        "\n",
        "#TODO: Try modifying this line to retreive:\n",
        "# - Embedded object ($.address)\n",
        "# - Element of the array \"$.status_log[0]\":"
      ]
    },
    {
      "cell_type": "code",
      "execution_count": null,
      "metadata": {
        "colab": {
          "base_uri": "https://localhost:8080/"
        },
        "id": "u9kw-6QdbfpV",
        "outputId": "126445a0-69c8-4ef7-f61a-f8dfab6e9796"
      },
      "outputs": [
        {
          "name": "stdout",
          "output_type": "stream",
          "text": [
            "[350]\n"
          ]
        },
        {
          "data": {
            "text/plain": [
              "[350]"
            ]
          },
          "execution_count": 74,
          "metadata": {},
          "output_type": "execute_result"
        }
      ],
      "source": [
        "# Read number of students\n",
        "students=r.json().get('school_json:0','$.students')\n",
        "print(students)\n",
        "#set new number\n",
        "r.json().set('school_json:0','$.students',350)\n",
        "r.json().get('school_json:0','$.students')"
      ]
    },
    {
      "cell_type": "code",
      "execution_count": null,
      "metadata": {
        "colab": {
          "base_uri": "https://localhost:8080/"
        },
        "id": "09i6hh4acIh_",
        "outputId": "30a1e38b-ca2b-4951-8f6c-98bde83da2e2"
      },
      "outputs": [
        {
          "data": {
            "text/plain": [
              "[351]"
            ]
          },
          "execution_count": 75,
          "metadata": {},
          "output_type": "execute_result"
        }
      ],
      "source": [
        "#atomic increment for number of students\n",
        "r.json().numincrby('school_json:0','$.students',1)"
      ]
    },
    {
      "attachments": {},
      "cell_type": "markdown",
      "metadata": {
        "id": "jpJW1d87lIJr"
      },
      "source": [
        "## RediSearch\n",
        "\n",
        "RediSearch adds the ability to query data in your HASH or JSON data structures, essentially turning Redis into the docuemnt database.\n",
        "\n",
        "With RediSearch you declare indices once and then every database object matching the prefix, defined in the index would be automatically and in real time added to the index.\n",
        "\n",
        "For the full list of RediSearch commands see: https://redis.io/commands/?group=search \n",
        "\n",
        "Python documentation: https://redis-py.readthedocs.io/en/stable/redismodules.html#redisearch-commands "
      ]
    },
    {
      "cell_type": "code",
      "execution_count": null,
      "metadata": {
        "colab": {
          "base_uri": "https://localhost:8080/"
        },
        "id": "O_2g-lCadPsB",
        "outputId": "7ac3a5b2-7275-4eae-f64c-c8d059899e91"
      },
      "outputs": [
        {
          "data": {
            "text/plain": [
              "b'OK'"
            ]
          },
          "execution_count": 77,
          "metadata": {},
          "output_type": "execute_result"
        }
      ],
      "source": [
        "from redis.commands.search.field import (\n",
        "    NumericField,\n",
        "    TagField,\n",
        "    TextField,\n",
        "    VectorField,\n",
        ")\n",
        "from redis.commands.search.indexDefinition import IndexDefinition, IndexType\n",
        "from redis.commands.search.query import Query\n",
        "schema = (\n",
        "    TextField(\"$.name\", as_name=\"name\"),\n",
        "    TextField(\"$.description\", as_name=\"description\"),\n",
        "    TagField(\"$.user.city\", as_name=\"city\"), \n",
        "    NumericField(\"$.students\", as_name=\"students\")\n",
        "    )\n",
        "r.ft(\"idx:schools_json\").create_index(schema, \n",
        "                    definition=IndexDefinition(prefix=[\"school_json:\"], \n",
        "                    index_type=IndexType.JSON)\n",
        "                    )"
      ]
    },
    {
      "cell_type": "code",
      "execution_count": null,
      "metadata": {
        "colab": {
          "base_uri": "https://localhost:8080/",
          "height": 183
        },
        "id": "PKMJeXfpe9Xp",
        "outputId": "1dd129ae-2430-4ee0-ca89-43bff19a88d0"
      },
      "outputs": [
        {
          "data": {
            "text/html": [
              "\n",
              "  <div id=\"df-202323f3-f6d9-4713-bad0-4f8d12bf13d5\">\n",
              "    <div class=\"colab-df-container\">\n",
              "      <div>\n",
              "<style scoped>\n",
              "    .dataframe tbody tr th:only-of-type {\n",
              "        vertical-align: middle;\n",
              "    }\n",
              "\n",
              "    .dataframe tbody tr th {\n",
              "        vertical-align: top;\n",
              "    }\n",
              "\n",
              "    .dataframe thead th {\n",
              "        text-align: right;\n",
              "    }\n",
              "</style>\n",
              "<table border=\"1\" class=\"dataframe\">\n",
              "  <thead>\n",
              "    <tr style=\"text-align: right;\">\n",
              "      <th></th>\n",
              "      <th>id</th>\n",
              "      <th>payload</th>\n",
              "      <th>json</th>\n",
              "    </tr>\n",
              "  </thead>\n",
              "  <tbody>\n",
              "    <tr>\n",
              "      <th>0</th>\n",
              "      <td>school_json:3</td>\n",
              "      <td>None</td>\n",
              "      <td>{\"name\":\"Forest School\",\"description\":\"The phi...</td>\n",
              "    </tr>\n",
              "    <tr>\n",
              "      <th>1</th>\n",
              "      <td>school_json:1</td>\n",
              "      <td>None</td>\n",
              "      <td>{\"name\":\"Garden School\",\"description\":\"Garden ...</td>\n",
              "    </tr>\n",
              "  </tbody>\n",
              "</table>\n",
              "</div>\n",
              "      <button class=\"colab-df-convert\" onclick=\"convertToInteractive('df-202323f3-f6d9-4713-bad0-4f8d12bf13d5')\"\n",
              "              title=\"Convert this dataframe to an interactive table.\"\n",
              "              style=\"display:none;\">\n",
              "        \n",
              "  <svg xmlns=\"http://www.w3.org/2000/svg\" height=\"24px\"viewBox=\"0 0 24 24\"\n",
              "       width=\"24px\">\n",
              "    <path d=\"M0 0h24v24H0V0z\" fill=\"none\"/>\n",
              "    <path d=\"M18.56 5.44l.94 2.06.94-2.06 2.06-.94-2.06-.94-.94-2.06-.94 2.06-2.06.94zm-11 1L8.5 8.5l.94-2.06 2.06-.94-2.06-.94L8.5 2.5l-.94 2.06-2.06.94zm10 10l.94 2.06.94-2.06 2.06-.94-2.06-.94-.94-2.06-.94 2.06-2.06.94z\"/><path d=\"M17.41 7.96l-1.37-1.37c-.4-.4-.92-.59-1.43-.59-.52 0-1.04.2-1.43.59L10.3 9.45l-7.72 7.72c-.78.78-.78 2.05 0 2.83L4 21.41c.39.39.9.59 1.41.59.51 0 1.02-.2 1.41-.59l7.78-7.78 2.81-2.81c.8-.78.8-2.07 0-2.86zM5.41 20L4 18.59l7.72-7.72 1.47 1.35L5.41 20z\"/>\n",
              "  </svg>\n",
              "      </button>\n",
              "      \n",
              "  <style>\n",
              "    .colab-df-container {\n",
              "      display:flex;\n",
              "      flex-wrap:wrap;\n",
              "      gap: 12px;\n",
              "    }\n",
              "\n",
              "    .colab-df-convert {\n",
              "      background-color: #E8F0FE;\n",
              "      border: none;\n",
              "      border-radius: 50%;\n",
              "      cursor: pointer;\n",
              "      display: none;\n",
              "      fill: #1967D2;\n",
              "      height: 32px;\n",
              "      padding: 0 0 0 0;\n",
              "      width: 32px;\n",
              "    }\n",
              "\n",
              "    .colab-df-convert:hover {\n",
              "      background-color: #E2EBFA;\n",
              "      box-shadow: 0px 1px 2px rgba(60, 64, 67, 0.3), 0px 1px 3px 1px rgba(60, 64, 67, 0.15);\n",
              "      fill: #174EA6;\n",
              "    }\n",
              "\n",
              "    [theme=dark] .colab-df-convert {\n",
              "      background-color: #3B4455;\n",
              "      fill: #D2E3FC;\n",
              "    }\n",
              "\n",
              "    [theme=dark] .colab-df-convert:hover {\n",
              "      background-color: #434B5C;\n",
              "      box-shadow: 0px 1px 3px 1px rgba(0, 0, 0, 0.15);\n",
              "      filter: drop-shadow(0px 1px 2px rgba(0, 0, 0, 0.3));\n",
              "      fill: #FFFFFF;\n",
              "    }\n",
              "  </style>\n",
              "\n",
              "      <script>\n",
              "        const buttonEl =\n",
              "          document.querySelector('#df-202323f3-f6d9-4713-bad0-4f8d12bf13d5 button.colab-df-convert');\n",
              "        buttonEl.style.display =\n",
              "          google.colab.kernel.accessAllowed ? 'block' : 'none';\n",
              "\n",
              "        async function convertToInteractive(key) {\n",
              "          const element = document.querySelector('#df-202323f3-f6d9-4713-bad0-4f8d12bf13d5');\n",
              "          const dataTable =\n",
              "            await google.colab.kernel.invokeFunction('convertToInteractive',\n",
              "                                                     [key], {});\n",
              "          if (!dataTable) return;\n",
              "\n",
              "          const docLinkHtml = 'Like what you see? Visit the ' +\n",
              "            '<a target=\"_blank\" href=https://colab.research.google.com/notebooks/data_table.ipynb>data table notebook</a>'\n",
              "            + ' to learn more about interactive tables.';\n",
              "          element.innerHTML = '';\n",
              "          dataTable['output_type'] = 'display_data';\n",
              "          await google.colab.output.renderOutput(dataTable, element);\n",
              "          const docLink = document.createElement('div');\n",
              "          docLink.innerHTML = docLinkHtml;\n",
              "          element.appendChild(docLink);\n",
              "        }\n",
              "      </script>\n",
              "    </div>\n",
              "  </div>\n",
              "  "
            ],
            "text/plain": [
              "              id payload                                               json\n",
              "0  school_json:3    None  {\"name\":\"Forest School\",\"description\":\"The phi...\n",
              "1  school_json:1    None  {\"name\":\"Garden School\",\"description\":\"Garden ..."
            ]
          },
          "execution_count": 81,
          "metadata": {},
          "output_type": "execute_result"
        }
      ],
      "source": [
        "import pandas as pd\n",
        "#return the entire document\n",
        "res=r.ft(\"idx:schools_json\").search(\"nature\")\n",
        "res_df = pd.DataFrame([t.__dict__ for t in res.docs ])\n",
        "res_df"
      ]
    },
    {
      "cell_type": "code",
      "execution_count": null,
      "metadata": {
        "colab": {
          "base_uri": "https://localhost:8080/",
          "height": 112
        },
        "id": "OGKiSpQ-hUMp",
        "outputId": "e79c7e93-a730-4a60-a674-7b155b1595d7"
      },
      "outputs": [
        {
          "data": {
            "text/html": [
              "\n",
              "  <div id=\"df-9d05f632-2b47-42fc-98a3-3ffe2300577a\">\n",
              "    <div class=\"colab-df-container\">\n",
              "      <div>\n",
              "<style scoped>\n",
              "    .dataframe tbody tr th:only-of-type {\n",
              "        vertical-align: middle;\n",
              "    }\n",
              "\n",
              "    .dataframe tbody tr th {\n",
              "        vertical-align: top;\n",
              "    }\n",
              "\n",
              "    .dataframe thead th {\n",
              "        text-align: right;\n",
              "    }\n",
              "</style>\n",
              "<table border=\"1\" class=\"dataframe\">\n",
              "  <thead>\n",
              "    <tr style=\"text-align: right;\">\n",
              "      <th></th>\n",
              "      <th>id</th>\n",
              "      <th>payload</th>\n",
              "      <th>city</th>\n",
              "      <th>name</th>\n",
              "    </tr>\n",
              "  </thead>\n",
              "  <tbody>\n",
              "    <tr>\n",
              "      <th>0</th>\n",
              "      <td>school_json:3</td>\n",
              "      <td>None</td>\n",
              "      <td>Oxford</td>\n",
              "      <td>Forest School</td>\n",
              "    </tr>\n",
              "    <tr>\n",
              "      <th>1</th>\n",
              "      <td>school_json:1</td>\n",
              "      <td>None</td>\n",
              "      <td>London</td>\n",
              "      <td>Garden School</td>\n",
              "    </tr>\n",
              "  </tbody>\n",
              "</table>\n",
              "</div>\n",
              "      <button class=\"colab-df-convert\" onclick=\"convertToInteractive('df-9d05f632-2b47-42fc-98a3-3ffe2300577a')\"\n",
              "              title=\"Convert this dataframe to an interactive table.\"\n",
              "              style=\"display:none;\">\n",
              "        \n",
              "  <svg xmlns=\"http://www.w3.org/2000/svg\" height=\"24px\"viewBox=\"0 0 24 24\"\n",
              "       width=\"24px\">\n",
              "    <path d=\"M0 0h24v24H0V0z\" fill=\"none\"/>\n",
              "    <path d=\"M18.56 5.44l.94 2.06.94-2.06 2.06-.94-2.06-.94-.94-2.06-.94 2.06-2.06.94zm-11 1L8.5 8.5l.94-2.06 2.06-.94-2.06-.94L8.5 2.5l-.94 2.06-2.06.94zm10 10l.94 2.06.94-2.06 2.06-.94-2.06-.94-.94-2.06-.94 2.06-2.06.94z\"/><path d=\"M17.41 7.96l-1.37-1.37c-.4-.4-.92-.59-1.43-.59-.52 0-1.04.2-1.43.59L10.3 9.45l-7.72 7.72c-.78.78-.78 2.05 0 2.83L4 21.41c.39.39.9.59 1.41.59.51 0 1.02-.2 1.41-.59l7.78-7.78 2.81-2.81c.8-.78.8-2.07 0-2.86zM5.41 20L4 18.59l7.72-7.72 1.47 1.35L5.41 20z\"/>\n",
              "  </svg>\n",
              "      </button>\n",
              "      \n",
              "  <style>\n",
              "    .colab-df-container {\n",
              "      display:flex;\n",
              "      flex-wrap:wrap;\n",
              "      gap: 12px;\n",
              "    }\n",
              "\n",
              "    .colab-df-convert {\n",
              "      background-color: #E8F0FE;\n",
              "      border: none;\n",
              "      border-radius: 50%;\n",
              "      cursor: pointer;\n",
              "      display: none;\n",
              "      fill: #1967D2;\n",
              "      height: 32px;\n",
              "      padding: 0 0 0 0;\n",
              "      width: 32px;\n",
              "    }\n",
              "\n",
              "    .colab-df-convert:hover {\n",
              "      background-color: #E2EBFA;\n",
              "      box-shadow: 0px 1px 2px rgba(60, 64, 67, 0.3), 0px 1px 3px 1px rgba(60, 64, 67, 0.15);\n",
              "      fill: #174EA6;\n",
              "    }\n",
              "\n",
              "    [theme=dark] .colab-df-convert {\n",
              "      background-color: #3B4455;\n",
              "      fill: #D2E3FC;\n",
              "    }\n",
              "\n",
              "    [theme=dark] .colab-df-convert:hover {\n",
              "      background-color: #434B5C;\n",
              "      box-shadow: 0px 1px 3px 1px rgba(0, 0, 0, 0.15);\n",
              "      filter: drop-shadow(0px 1px 2px rgba(0, 0, 0, 0.3));\n",
              "      fill: #FFFFFF;\n",
              "    }\n",
              "  </style>\n",
              "\n",
              "      <script>\n",
              "        const buttonEl =\n",
              "          document.querySelector('#df-9d05f632-2b47-42fc-98a3-3ffe2300577a button.colab-df-convert');\n",
              "        buttonEl.style.display =\n",
              "          google.colab.kernel.accessAllowed ? 'block' : 'none';\n",
              "\n",
              "        async function convertToInteractive(key) {\n",
              "          const element = document.querySelector('#df-9d05f632-2b47-42fc-98a3-3ffe2300577a');\n",
              "          const dataTable =\n",
              "            await google.colab.kernel.invokeFunction('convertToInteractive',\n",
              "                                                     [key], {});\n",
              "          if (!dataTable) return;\n",
              "\n",
              "          const docLinkHtml = 'Like what you see? Visit the ' +\n",
              "            '<a target=\"_blank\" href=https://colab.research.google.com/notebooks/data_table.ipynb>data table notebook</a>'\n",
              "            + ' to learn more about interactive tables.';\n",
              "          element.innerHTML = '';\n",
              "          dataTable['output_type'] = 'display_data';\n",
              "          await google.colab.output.renderOutput(dataTable, element);\n",
              "          const docLink = document.createElement('div');\n",
              "          docLink.innerHTML = docLinkHtml;\n",
              "          element.appendChild(docLink);\n",
              "        }\n",
              "      </script>\n",
              "    </div>\n",
              "  </div>\n",
              "  "
            ],
            "text/plain": [
              "              id payload    city           name\n",
              "0  school_json:3    None  Oxford  Forest School\n",
              "1  school_json:1    None  London  Garden School"
            ]
          },
          "execution_count": 84,
          "metadata": {},
          "output_type": "execute_result"
        }
      ],
      "source": [
        "#return selected fields only\n",
        "query=Query(\"nature\") \\\n",
        "   .return_field(\"$.address.city\", as_field=\"city\") \\\n",
        "   .return_field(\"$.name\", as_field=\"name\")\n",
        "res=r.ft(\"idx:schools_json\").search(query)\n",
        "res_df = pd.DataFrame([t.__dict__ for t in res.docs ])\n",
        "res_df"
      ]
    }
  ],
  "metadata": {
    "colab": {
      "include_colab_link": true,
      "provenance": []
    },
    "kernelspec": {
      "display_name": "Python 3",
      "name": "python3"
    },
    "language_info": {
      "name": "python"
    }
  },
  "nbformat": 4,
  "nbformat_minor": 0
}
