{
  "cells": [
    {
      "cell_type": "markdown",
      "metadata": {
        "id": "view-in-github",
        "colab_type": "text"
      },
      "source": [
        "<a href=\"https://colab.research.google.com/github/antonum/Redis-Workshops/blob/main/03-Advanced_RedisSearch/03-Advanced_RedisSearch.ipynb\" target=\"_parent\"><img src=\"https://colab.research.google.com/assets/colab-badge.svg\" alt=\"Open In Colab\"/></a>"
      ]
    },
    {
      "cell_type": "markdown",
      "metadata": {
        "id": "LDFnzeLwjmXL"
      },
      "source": [
        "# Advanced RediSearch\n",
        "\n",
        "![Redis](https://redis.com/wp-content/themes/wpx/assets/images/logo-redis.svg?auto=webp&quality=85,75&width=120)\n",
        "\n",
        "This notebook is an adapted and simplified version of the RedisInsight QuickGuide \"Working with Hashes\".\n",
        "\n",
        "For the full exterience we'd recommend installing Redis Insight and going through tutorial there.\n",
        "\n",
        "https://redis.com/redis-enterprise/redis-insight/"
      ]
    },
    {
      "cell_type": "code",
      "execution_count": 1,
      "metadata": {
        "colab": {
          "base_uri": "https://localhost:8080/"
        },
        "id": "maAiICvM-cTX",
        "outputId": "727750a1-db80-4b72-af9b-e1baca7054de"
      },
      "outputs": [
        {
          "output_type": "stream",
          "name": "stdout",
          "text": [
            "\u001b[?25l     \u001b[90m━━━━━━━━━━━━━━━━━━━━━━━━━━━━━━━━━━━━━━━━\u001b[0m \u001b[32m0.0/240.3 kB\u001b[0m \u001b[31m?\u001b[0m eta \u001b[36m-:--:--\u001b[0m\r\u001b[2K     \u001b[90m━━━━━━━━━━━━━━━━━━━━━━━━━━━━━━━━━━━━━━\u001b[0m \u001b[32m240.3/240.3 kB\u001b[0m \u001b[31m11.1 MB/s\u001b[0m eta \u001b[36m0:00:00\u001b[0m\n",
            "\u001b[?25h"
          ]
        }
      ],
      "source": [
        "# Install the requirements\n",
        "!pip install -q redis"
      ]
    },
    {
      "cell_type": "code",
      "execution_count": 2,
      "metadata": {
        "colab": {
          "base_uri": "https://localhost:8080/"
        },
        "id": "6CjMuWlOxYoZ",
        "outputId": "9a3f8eab-dd24-41ce-868d-2724140076fe"
      },
      "outputs": [
        {
          "output_type": "stream",
          "name": "stdout",
          "text": [
            "deb [signed-by=/usr/share/keyrings/redis-archive-keyring.gpg] https://packages.redis.io/deb focal main\n",
            "Starting redis-stack-server, database path /var/lib/redis-stack\n"
          ]
        }
      ],
      "source": [
        "%%sh\n",
        "curl -fsSL https://packages.redis.io/gpg | sudo gpg --dearmor -o /usr/share/keyrings/redis-archive-keyring.gpg\n",
        "echo \"deb [signed-by=/usr/share/keyrings/redis-archive-keyring.gpg] https://packages.redis.io/deb $(lsb_release -cs) main\" | sudo tee /etc/apt/sources.list.d/redis.list\n",
        "sudo apt-get update  > /dev/null 2>&1\n",
        "sudo apt-get install redis-stack-server  > /dev/null 2>&1\n",
        "redis-stack-server --daemonize yes\n"
      ]
    },
    {
      "cell_type": "code",
      "execution_count": 3,
      "metadata": {
        "id": "zfpejTkuASuZ"
      },
      "outputs": [],
      "source": [
        "import redis\n",
        "import os\n"
      ]
    },
    {
      "cell_type": "code",
      "execution_count": 4,
      "metadata": {
        "id": "x47s7mlR_zYB"
      },
      "outputs": [],
      "source": [
        "REDIS_HOST = os.getenv(\"REDIS_HOST\", \"localhost\")\n",
        "REDIS_PORT = os.getenv(\"REDIS_PORT\", \"6379\")\n",
        "REDIS_PASSWORD = os.getenv(\"REDIS_PASSWORD\", \"\")\n",
        "#Replace values above with your own if using Redis Cloud instance\n",
        "#REDIS_HOST=\"redis-12110.c82.us-east-1-2.ec2.cloud.redislabs.com\"\n",
        "#REDIS_PORT=12110\n",
        "#REDIS_PASSWORD=\"pobhBJP7Psicp2gV0iqa2ZOc1XXXXXX\"\n",
        "\n",
        "#shortcut for redis-cli $REDIS_CONN command\n",
        "if REDIS_PASSWORD!=\"\":\n",
        "  os.environ[\"REDIS_CONN\"]=f\"-h {REDIS_HOST} -p {REDIS_PORT} -a {REDIS_PASSWORD} --no-auth-warning\"\n",
        "else:\n",
        "  os.environ[\"REDIS_CONN\"]=f\"-h {REDIS_HOST} -p {REDIS_PORT}\""
      ]
    },
    {
      "cell_type": "code",
      "execution_count": 5,
      "metadata": {
        "colab": {
          "base_uri": "https://localhost:8080/"
        },
        "id": "DbKb8mnWQO-5",
        "outputId": "dde86f1f-9cfd-46d7-dbb1-d45b72e236ca"
      },
      "outputs": [
        {
          "output_type": "execute_result",
          "data": {
            "text/plain": [
              "True"
            ]
          },
          "metadata": {},
          "execution_count": 5
        }
      ],
      "source": [
        "r = redis.Redis(\n",
        "  host=REDIS_HOST,\n",
        "  port=REDIS_PORT,\n",
        "  password=REDIS_PASSWORD)\n",
        "r.ping()"
      ]
    },
    {
      "cell_type": "markdown",
      "metadata": {
        "id": "x1V1E2Nmjva4"
      },
      "source": [
        "## Redis Hashes\n",
        "\n",
        "Hash is a fundamental Redis datatype.\n",
        "\n",
        "\n",
        "See full list of Redis HASH commands here: https://redis.io/commands/?group=hash\n",
        "\n",
        "\n"
      ]
    },
    {
      "cell_type": "code",
      "execution_count": 6,
      "metadata": {
        "id": "dMtz_Ak7VOTk"
      },
      "outputs": [],
      "source": [
        "schools = [\n",
        "    {\"name\":\"Hall School\",\n",
        "     \"description\":\"Spanning 10 states, this school award-winning curriculum includes a comprehensive reading system (from letter recognition and phonics to reading full-length books), as well as math, science, social studies, and even  philosophy.\",\n",
        "     \"class\":\"independent\",\n",
        "     \"type\":\"traditional\",\n",
        "     \"address_city\":\"London\",\n",
        "     \"address_street\":\"Manor Street\",\n",
        "     \"students\":342,\n",
        "     \"location\":\"51.445417, -0.258352\"\n",
        "     },\n",
        "    {\"name\":\"Garden School\",\n",
        "     \"description\":\"Garden School is a new and innovative outdoor teaching and learning experience, offering rich and varied activities in a natural environment to children and families.\",\n",
        "     \"class\":\"state\",\"type\":\"forest; montessori\",\n",
        "     \"address_city\":\"London\",\n",
        "     \"address_street\":\"Gordon Street\",\n",
        "     \"students\":1452,\n",
        "     \"location\":\"51.402926, -0.321523\",\n",
        "     },\n",
        "\n",
        "    {\"name\":\"Gillford School\",\n",
        "     \"description\":\"Gillford School is an inclusive learning centre welcoming people from all walks of life, here invited to step into their role as regenerative agents, creating new pathways into the future and inciting an international movement of cultural, land, and social transformation.\",\n",
        "     \"class\":\"private\",\n",
        "     \"type\":\"democratic; waldorf\",\n",
        "     \"address_city\":\"Goudhurst\",\n",
        "     \"address_street\":\"Goudhurst\",\n",
        "     \"students\":721,\n",
        "     \"location\":\"51.112685, 0.451076\"\n",
        "     },\n",
        "\n",
        "     {\n",
        "     \"name\":\"Forest School\",\n",
        "     \"description\":\"The philosophy behind Forest School is based upon the desire to provide young children with an education that encourages appreciation of the wide world in nature while achieving independence, confidence and high self-esteem. \",\n",
        "     \"class\":\"independent\",\n",
        "     \"type\":\"forest; montessori; democratic\",\n",
        "     \"address_city\":\"Oxford\",\n",
        "     \"address_street\":\"Trident Street\",\n",
        "     \"students\":1200,\n",
        "     \"location\":\"51.781756, -1.123196\"\n",
        "     }\n",
        "    ]\n",
        "#load data in Redis as JSON\n",
        "for id,school in enumerate(schools):\n",
        "    #print(school)\n",
        "    r.hset(f\"school:{id}\", mapping = school)"
      ]
    },
    {
      "cell_type": "code",
      "execution_count": 7,
      "metadata": {
        "colab": {
          "base_uri": "https://localhost:8080/"
        },
        "id": "5NtYQYlPXCIO",
        "outputId": "db8c1069-5762-45eb-cfca-4fc02bc68902"
      },
      "outputs": [
        {
          "output_type": "stream",
          "name": "stdout",
          "text": [
            "1) \"school:0\"\n",
            "2) \"school:3\"\n",
            "3) \"school:2\"\n",
            "4) \"school:1\"\n",
            "\n",
            " 1) \"location\"\n",
            " 2) \"51.402926, -0.321523\"\n",
            " 3) \"address_street\"\n",
            " 4) \"Gordon Street\"\n",
            " 5) \"address_city\"\n",
            " 6) \"London\"\n",
            " 7) \"students\"\n",
            " 8) \"1452\"\n",
            " 9) \"class\"\n",
            "10) \"state\"\n",
            "11) \"name\"\n",
            "12) \"Garden School\"\n",
            "13) \"description\"\n",
            "14) \"Garden School is a new and innovative outdoor teaching and learning experience, offering rich and varied activities in a natural environment to children and families.\"\n",
            "15) \"type\"\n",
            "16) \"forest; montessori\"\n"
          ]
        }
      ],
      "source": [
        "!redis-cli $REDIS_CONN keys 'school:*'\n",
        "!echo\n",
        "!redis-cli $REDIS_CONN HGETALL school:1\n",
        "\n"
      ]
    },
    {
      "cell_type": "code",
      "source": [
        "#!redis-cli $REDIS_CONN flushdb"
      ],
      "metadata": {
        "id": "dLTOX799W81e"
      },
      "execution_count": 8,
      "outputs": []
    },
    {
      "cell_type": "markdown",
      "metadata": {
        "id": "jpJW1d87lIJr"
      },
      "source": [
        "## RediSearch\n",
        "\n",
        "RediSearch adds the ability to query data in your HASH or JSON data structures, essentially turning Redis into the docuemnt database.\n",
        "\n",
        "With RediSearch you declare indices once and then every database object matching the prefix, defined in the index would be automatically and in real time added to the index.\n",
        "\n",
        "For the full list of RediSearch commands see: https://redis.io/commands/?group=search\n",
        "\n",
        "Python documentation: https://redis-py.readthedocs.io/en/stable/redismodules.html#redisearch-commands"
      ]
    },
    {
      "cell_type": "code",
      "execution_count": 9,
      "metadata": {
        "colab": {
          "base_uri": "https://localhost:8080/"
        },
        "id": "O_2g-lCadPsB",
        "outputId": "8c932e73-fcd4-4cbe-848a-5e4f7a66c069"
      },
      "outputs": [
        {
          "output_type": "execute_result",
          "data": {
            "text/plain": [
              "b'OK'"
            ]
          },
          "metadata": {},
          "execution_count": 9
        }
      ],
      "source": [
        "from redis.commands.search.field import (\n",
        "    NumericField,\n",
        "    TagField,\n",
        "    TextField,\n",
        "    GeoField,\n",
        "    VectorField\n",
        ")\n",
        "from redis.commands.search.indexDefinition import IndexDefinition, IndexType\n",
        "from redis.commands.search.query import Query\n",
        "from redis.commands.search.aggregation import AggregateRequest\n",
        "from redis.commands.search import reducers\n",
        "schema = (\n",
        "    TextField(\"name\", as_name=\"name\"),\n",
        "    TextField(\"description\", as_name=\"description\"),\n",
        "    TagField(\"address_city\", as_name=\"city\"),\n",
        "    NumericField(\"students\", as_name=\"students\"),\n",
        "    GeoField(\"location\", as_name=\"location\")\n",
        "    )\n",
        "r.ft(\"idx:schools\").create_index(schema,\n",
        "                    definition=IndexDefinition(prefix=[\"school:\"],\n",
        "                    index_type=IndexType.HASH)\n",
        "                    )"
      ]
    },
    {
      "cell_type": "code",
      "source": [
        "#Retreive index information\n",
        "r.ft(\"idx:schools\").info()\n"
      ],
      "metadata": {
        "id": "BpiI463CfqE0",
        "outputId": "ca530e70-6ca7-4188-e1fa-5863b283a1cd",
        "colab": {
          "base_uri": "https://localhost:8080/"
        }
      },
      "execution_count": 10,
      "outputs": [
        {
          "output_type": "execute_result",
          "data": {
            "text/plain": [
              "{'index_name': 'idx:schools',\n",
              " 'index_options': [],\n",
              " 'index_definition': [b'key_type',\n",
              "  b'HASH',\n",
              "  b'prefixes',\n",
              "  [b'school:'],\n",
              "  b'default_score',\n",
              "  b'1'],\n",
              " 'attributes': [[b'identifier',\n",
              "   b'name',\n",
              "   b'attribute',\n",
              "   b'name',\n",
              "   b'type',\n",
              "   b'TEXT',\n",
              "   b'WEIGHT',\n",
              "   b'1'],\n",
              "  [b'identifier',\n",
              "   b'description',\n",
              "   b'attribute',\n",
              "   b'description',\n",
              "   b'type',\n",
              "   b'TEXT',\n",
              "   b'WEIGHT',\n",
              "   b'1'],\n",
              "  [b'identifier',\n",
              "   b'address_city',\n",
              "   b'attribute',\n",
              "   b'city',\n",
              "   b'type',\n",
              "   b'TAG',\n",
              "   b'SEPARATOR',\n",
              "   b','],\n",
              "  [b'identifier', b'students', b'attribute', b'students', b'type', b'NUMERIC'],\n",
              "  [b'identifier', b'location', b'attribute', b'location', b'type', b'GEO']],\n",
              " 'num_docs': '4',\n",
              " 'max_doc_id': '4',\n",
              " 'num_terms': '130',\n",
              " 'num_records': '154',\n",
              " 'inverted_sz_mb': '0.00087451934814453125',\n",
              " 'vector_index_sz_mb': '0',\n",
              " 'total_inverted_index_blocks': '137',\n",
              " 'offset_vectors_sz_mb': '0.00014400482177734375',\n",
              " 'doc_table_size_mb': '0.00028228759765625',\n",
              " 'sortable_values_size_mb': '0',\n",
              " 'key_table_size_mb': '0.00013828277587890625',\n",
              " 'records_per_doc_avg': '38.5',\n",
              " 'bytes_per_record_avg': '5.9545454978942871',\n",
              " 'offsets_per_term_avg': '0.98051947355270386',\n",
              " 'offset_bits_per_record_avg': '8',\n",
              " 'hash_indexing_failures': '0',\n",
              " 'indexing': '0',\n",
              " 'percent_indexed': '1',\n",
              " 'gc_stats': [b'bytes_collected',\n",
              "  b'0',\n",
              "  b'total_ms_run',\n",
              "  b'0',\n",
              "  b'total_cycles',\n",
              "  b'0',\n",
              "  b'average_cycle_time_ms',\n",
              "  b'-nan',\n",
              "  b'last_run_time_ms',\n",
              "  b'0',\n",
              "  b'gc_numeric_trees_missed',\n",
              "  b'0',\n",
              "  b'gc_blocks_denied',\n",
              "  b'0'],\n",
              " 'cursor_stats': [b'global_idle',\n",
              "  0,\n",
              "  b'global_total',\n",
              "  0,\n",
              "  b'index_capacity',\n",
              "  128,\n",
              "  b'index_total',\n",
              "  0]}"
            ]
          },
          "metadata": {},
          "execution_count": 10
        }
      ]
    },
    {
      "cell_type": "code",
      "source": [
        "import pandas as pd\n",
        "def display_ft(res):\n",
        "  if res.total==0:\n",
        "    print(\"No matches found\")\n",
        "  else:\n",
        "    res_df = pd.DataFrame([t.__dict__ for t in res.docs ]).drop(columns=[\"payload\"])\n",
        "    display(res_df)"
      ],
      "metadata": {
        "id": "JKNoRQ3XejVI"
      },
      "execution_count": 11,
      "outputs": []
    },
    {
      "cell_type": "code",
      "execution_count": 12,
      "metadata": {
        "colab": {
          "base_uri": "https://localhost:8080/",
          "height": 191
        },
        "id": "PKMJeXfpe9Xp",
        "outputId": "42ebf210-cff2-4739-bc75-646901c0678a"
      },
      "outputs": [
        {
          "output_type": "display_data",
          "data": {
            "text/plain": [
              "         id           name  address_street address_city  \\\n",
              "0  school:3  Forest School  Trident Street       Oxford   \n",
              "1  school:1  Garden School   Gordon Street       London   \n",
              "\n",
              "                             type              location  \\\n",
              "0  forest; montessori; democratic  51.781756, -1.123196   \n",
              "1              forest; montessori  51.402926, -0.321523   \n",
              "\n",
              "                                         description students        class  \n",
              "0  The philosophy behind Forest School is based u...     1200  independent  \n",
              "1  Garden School is a new and innovative outdoor ...     1452        state  "
            ],
            "text/html": [
              "\n",
              "  <div id=\"df-e8717636-e724-4842-a00f-b2d6b8229d68\">\n",
              "    <div class=\"colab-df-container\">\n",
              "      <div>\n",
              "<style scoped>\n",
              "    .dataframe tbody tr th:only-of-type {\n",
              "        vertical-align: middle;\n",
              "    }\n",
              "\n",
              "    .dataframe tbody tr th {\n",
              "        vertical-align: top;\n",
              "    }\n",
              "\n",
              "    .dataframe thead th {\n",
              "        text-align: right;\n",
              "    }\n",
              "</style>\n",
              "<table border=\"1\" class=\"dataframe\">\n",
              "  <thead>\n",
              "    <tr style=\"text-align: right;\">\n",
              "      <th></th>\n",
              "      <th>id</th>\n",
              "      <th>name</th>\n",
              "      <th>address_street</th>\n",
              "      <th>address_city</th>\n",
              "      <th>type</th>\n",
              "      <th>location</th>\n",
              "      <th>description</th>\n",
              "      <th>students</th>\n",
              "      <th>class</th>\n",
              "    </tr>\n",
              "  </thead>\n",
              "  <tbody>\n",
              "    <tr>\n",
              "      <th>0</th>\n",
              "      <td>school:3</td>\n",
              "      <td>Forest School</td>\n",
              "      <td>Trident Street</td>\n",
              "      <td>Oxford</td>\n",
              "      <td>forest; montessori; democratic</td>\n",
              "      <td>51.781756, -1.123196</td>\n",
              "      <td>The philosophy behind Forest School is based u...</td>\n",
              "      <td>1200</td>\n",
              "      <td>independent</td>\n",
              "    </tr>\n",
              "    <tr>\n",
              "      <th>1</th>\n",
              "      <td>school:1</td>\n",
              "      <td>Garden School</td>\n",
              "      <td>Gordon Street</td>\n",
              "      <td>London</td>\n",
              "      <td>forest; montessori</td>\n",
              "      <td>51.402926, -0.321523</td>\n",
              "      <td>Garden School is a new and innovative outdoor ...</td>\n",
              "      <td>1452</td>\n",
              "      <td>state</td>\n",
              "    </tr>\n",
              "  </tbody>\n",
              "</table>\n",
              "</div>\n",
              "      <button class=\"colab-df-convert\" onclick=\"convertToInteractive('df-e8717636-e724-4842-a00f-b2d6b8229d68')\"\n",
              "              title=\"Convert this dataframe to an interactive table.\"\n",
              "              style=\"display:none;\">\n",
              "        \n",
              "  <svg xmlns=\"http://www.w3.org/2000/svg\" height=\"24px\"viewBox=\"0 0 24 24\"\n",
              "       width=\"24px\">\n",
              "    <path d=\"M0 0h24v24H0V0z\" fill=\"none\"/>\n",
              "    <path d=\"M18.56 5.44l.94 2.06.94-2.06 2.06-.94-2.06-.94-.94-2.06-.94 2.06-2.06.94zm-11 1L8.5 8.5l.94-2.06 2.06-.94-2.06-.94L8.5 2.5l-.94 2.06-2.06.94zm10 10l.94 2.06.94-2.06 2.06-.94-2.06-.94-.94-2.06-.94 2.06-2.06.94z\"/><path d=\"M17.41 7.96l-1.37-1.37c-.4-.4-.92-.59-1.43-.59-.52 0-1.04.2-1.43.59L10.3 9.45l-7.72 7.72c-.78.78-.78 2.05 0 2.83L4 21.41c.39.39.9.59 1.41.59.51 0 1.02-.2 1.41-.59l7.78-7.78 2.81-2.81c.8-.78.8-2.07 0-2.86zM5.41 20L4 18.59l7.72-7.72 1.47 1.35L5.41 20z\"/>\n",
              "  </svg>\n",
              "      </button>\n",
              "      \n",
              "  <style>\n",
              "    .colab-df-container {\n",
              "      display:flex;\n",
              "      flex-wrap:wrap;\n",
              "      gap: 12px;\n",
              "    }\n",
              "\n",
              "    .colab-df-convert {\n",
              "      background-color: #E8F0FE;\n",
              "      border: none;\n",
              "      border-radius: 50%;\n",
              "      cursor: pointer;\n",
              "      display: none;\n",
              "      fill: #1967D2;\n",
              "      height: 32px;\n",
              "      padding: 0 0 0 0;\n",
              "      width: 32px;\n",
              "    }\n",
              "\n",
              "    .colab-df-convert:hover {\n",
              "      background-color: #E2EBFA;\n",
              "      box-shadow: 0px 1px 2px rgba(60, 64, 67, 0.3), 0px 1px 3px 1px rgba(60, 64, 67, 0.15);\n",
              "      fill: #174EA6;\n",
              "    }\n",
              "\n",
              "    [theme=dark] .colab-df-convert {\n",
              "      background-color: #3B4455;\n",
              "      fill: #D2E3FC;\n",
              "    }\n",
              "\n",
              "    [theme=dark] .colab-df-convert:hover {\n",
              "      background-color: #434B5C;\n",
              "      box-shadow: 0px 1px 3px 1px rgba(0, 0, 0, 0.15);\n",
              "      filter: drop-shadow(0px 1px 2px rgba(0, 0, 0, 0.3));\n",
              "      fill: #FFFFFF;\n",
              "    }\n",
              "  </style>\n",
              "\n",
              "      <script>\n",
              "        const buttonEl =\n",
              "          document.querySelector('#df-e8717636-e724-4842-a00f-b2d6b8229d68 button.colab-df-convert');\n",
              "        buttonEl.style.display =\n",
              "          google.colab.kernel.accessAllowed ? 'block' : 'none';\n",
              "\n",
              "        async function convertToInteractive(key) {\n",
              "          const element = document.querySelector('#df-e8717636-e724-4842-a00f-b2d6b8229d68');\n",
              "          const dataTable =\n",
              "            await google.colab.kernel.invokeFunction('convertToInteractive',\n",
              "                                                     [key], {});\n",
              "          if (!dataTable) return;\n",
              "\n",
              "          const docLinkHtml = 'Like what you see? Visit the ' +\n",
              "            '<a target=\"_blank\" href=https://colab.research.google.com/notebooks/data_table.ipynb>data table notebook</a>'\n",
              "            + ' to learn more about interactive tables.';\n",
              "          element.innerHTML = '';\n",
              "          dataTable['output_type'] = 'display_data';\n",
              "          await google.colab.output.renderOutput(dataTable, element);\n",
              "          const docLink = document.createElement('div');\n",
              "          docLink.innerHTML = docLinkHtml;\n",
              "          element.appendChild(docLink);\n",
              "        }\n",
              "      </script>\n",
              "    </div>\n",
              "  </div>\n",
              "  "
            ]
          },
          "metadata": {}
        }
      ],
      "source": [
        "#return the entire document\n",
        "res=r.ft(\"idx:schools\").search(\"nature\")\n",
        "display_ft(res)"
      ]
    },
    {
      "cell_type": "code",
      "execution_count": 13,
      "metadata": {
        "colab": {
          "base_uri": "https://localhost:8080/",
          "height": 112
        },
        "id": "OGKiSpQ-hUMp",
        "outputId": "f413eafc-7fe0-4cdb-e579-ae779a21134d"
      },
      "outputs": [
        {
          "output_type": "display_data",
          "data": {
            "text/plain": [
              "         id    city           name\n",
              "0  school:3  Oxford  Forest School\n",
              "1  school:1  London  Garden School"
            ],
            "text/html": [
              "\n",
              "  <div id=\"df-c3a38691-8f03-41a1-9de3-5dffdeb1b709\">\n",
              "    <div class=\"colab-df-container\">\n",
              "      <div>\n",
              "<style scoped>\n",
              "    .dataframe tbody tr th:only-of-type {\n",
              "        vertical-align: middle;\n",
              "    }\n",
              "\n",
              "    .dataframe tbody tr th {\n",
              "        vertical-align: top;\n",
              "    }\n",
              "\n",
              "    .dataframe thead th {\n",
              "        text-align: right;\n",
              "    }\n",
              "</style>\n",
              "<table border=\"1\" class=\"dataframe\">\n",
              "  <thead>\n",
              "    <tr style=\"text-align: right;\">\n",
              "      <th></th>\n",
              "      <th>id</th>\n",
              "      <th>city</th>\n",
              "      <th>name</th>\n",
              "    </tr>\n",
              "  </thead>\n",
              "  <tbody>\n",
              "    <tr>\n",
              "      <th>0</th>\n",
              "      <td>school:3</td>\n",
              "      <td>Oxford</td>\n",
              "      <td>Forest School</td>\n",
              "    </tr>\n",
              "    <tr>\n",
              "      <th>1</th>\n",
              "      <td>school:1</td>\n",
              "      <td>London</td>\n",
              "      <td>Garden School</td>\n",
              "    </tr>\n",
              "  </tbody>\n",
              "</table>\n",
              "</div>\n",
              "      <button class=\"colab-df-convert\" onclick=\"convertToInteractive('df-c3a38691-8f03-41a1-9de3-5dffdeb1b709')\"\n",
              "              title=\"Convert this dataframe to an interactive table.\"\n",
              "              style=\"display:none;\">\n",
              "        \n",
              "  <svg xmlns=\"http://www.w3.org/2000/svg\" height=\"24px\"viewBox=\"0 0 24 24\"\n",
              "       width=\"24px\">\n",
              "    <path d=\"M0 0h24v24H0V0z\" fill=\"none\"/>\n",
              "    <path d=\"M18.56 5.44l.94 2.06.94-2.06 2.06-.94-2.06-.94-.94-2.06-.94 2.06-2.06.94zm-11 1L8.5 8.5l.94-2.06 2.06-.94-2.06-.94L8.5 2.5l-.94 2.06-2.06.94zm10 10l.94 2.06.94-2.06 2.06-.94-2.06-.94-.94-2.06-.94 2.06-2.06.94z\"/><path d=\"M17.41 7.96l-1.37-1.37c-.4-.4-.92-.59-1.43-.59-.52 0-1.04.2-1.43.59L10.3 9.45l-7.72 7.72c-.78.78-.78 2.05 0 2.83L4 21.41c.39.39.9.59 1.41.59.51 0 1.02-.2 1.41-.59l7.78-7.78 2.81-2.81c.8-.78.8-2.07 0-2.86zM5.41 20L4 18.59l7.72-7.72 1.47 1.35L5.41 20z\"/>\n",
              "  </svg>\n",
              "      </button>\n",
              "      \n",
              "  <style>\n",
              "    .colab-df-container {\n",
              "      display:flex;\n",
              "      flex-wrap:wrap;\n",
              "      gap: 12px;\n",
              "    }\n",
              "\n",
              "    .colab-df-convert {\n",
              "      background-color: #E8F0FE;\n",
              "      border: none;\n",
              "      border-radius: 50%;\n",
              "      cursor: pointer;\n",
              "      display: none;\n",
              "      fill: #1967D2;\n",
              "      height: 32px;\n",
              "      padding: 0 0 0 0;\n",
              "      width: 32px;\n",
              "    }\n",
              "\n",
              "    .colab-df-convert:hover {\n",
              "      background-color: #E2EBFA;\n",
              "      box-shadow: 0px 1px 2px rgba(60, 64, 67, 0.3), 0px 1px 3px 1px rgba(60, 64, 67, 0.15);\n",
              "      fill: #174EA6;\n",
              "    }\n",
              "\n",
              "    [theme=dark] .colab-df-convert {\n",
              "      background-color: #3B4455;\n",
              "      fill: #D2E3FC;\n",
              "    }\n",
              "\n",
              "    [theme=dark] .colab-df-convert:hover {\n",
              "      background-color: #434B5C;\n",
              "      box-shadow: 0px 1px 3px 1px rgba(0, 0, 0, 0.15);\n",
              "      filter: drop-shadow(0px 1px 2px rgba(0, 0, 0, 0.3));\n",
              "      fill: #FFFFFF;\n",
              "    }\n",
              "  </style>\n",
              "\n",
              "      <script>\n",
              "        const buttonEl =\n",
              "          document.querySelector('#df-c3a38691-8f03-41a1-9de3-5dffdeb1b709 button.colab-df-convert');\n",
              "        buttonEl.style.display =\n",
              "          google.colab.kernel.accessAllowed ? 'block' : 'none';\n",
              "\n",
              "        async function convertToInteractive(key) {\n",
              "          const element = document.querySelector('#df-c3a38691-8f03-41a1-9de3-5dffdeb1b709');\n",
              "          const dataTable =\n",
              "            await google.colab.kernel.invokeFunction('convertToInteractive',\n",
              "                                                     [key], {});\n",
              "          if (!dataTable) return;\n",
              "\n",
              "          const docLinkHtml = 'Like what you see? Visit the ' +\n",
              "            '<a target=\"_blank\" href=https://colab.research.google.com/notebooks/data_table.ipynb>data table notebook</a>'\n",
              "            + ' to learn more about interactive tables.';\n",
              "          element.innerHTML = '';\n",
              "          dataTable['output_type'] = 'display_data';\n",
              "          await google.colab.output.renderOutput(dataTable, element);\n",
              "          const docLink = document.createElement('div');\n",
              "          docLink.innerHTML = docLinkHtml;\n",
              "          element.appendChild(docLink);\n",
              "        }\n",
              "      </script>\n",
              "    </div>\n",
              "  </div>\n",
              "  "
            ]
          },
          "metadata": {}
        }
      ],
      "source": [
        "#return selected fields only\n",
        "query=Query(\"nature\") \\\n",
        "   .return_field(\"address_city\", as_field=\"city\") \\\n",
        "   .return_field(\"name\", as_field=\"name\")\n",
        "res=r.ft(\"idx:schools\").search(query)\n",
        "display_ft(res)\n"
      ]
    },
    {
      "cell_type": "code",
      "source": [
        "#Geolocation search\n",
        "query = Query('@location:[51.3 0.32 30 km]')\n",
        "res = r.ft('idx:schools').search(query)\n",
        "display_ft(res)"
      ],
      "metadata": {
        "id": "z4BeyF7tdoAA",
        "outputId": "8a386952-8d6b-4878-b61a-3c09a9bba4eb",
        "colab": {
          "base_uri": "https://localhost:8080/",
          "height": 142
        }
      },
      "execution_count": 14,
      "outputs": [
        {
          "output_type": "display_data",
          "data": {
            "text/plain": [
              "         id             name address_street address_city                 type  \\\n",
              "0  school:2  Gillford School      Goudhurst    Goudhurst  democratic; waldorf   \n",
              "\n",
              "              location                                        description  \\\n",
              "0  51.112685, 0.451076  Gillford School is an inclusive learning centr...   \n",
              "\n",
              "  students    class  \n",
              "0      721  private  "
            ],
            "text/html": [
              "\n",
              "  <div id=\"df-2e3273ab-e3a4-4d86-bece-36c45d7572ac\">\n",
              "    <div class=\"colab-df-container\">\n",
              "      <div>\n",
              "<style scoped>\n",
              "    .dataframe tbody tr th:only-of-type {\n",
              "        vertical-align: middle;\n",
              "    }\n",
              "\n",
              "    .dataframe tbody tr th {\n",
              "        vertical-align: top;\n",
              "    }\n",
              "\n",
              "    .dataframe thead th {\n",
              "        text-align: right;\n",
              "    }\n",
              "</style>\n",
              "<table border=\"1\" class=\"dataframe\">\n",
              "  <thead>\n",
              "    <tr style=\"text-align: right;\">\n",
              "      <th></th>\n",
              "      <th>id</th>\n",
              "      <th>name</th>\n",
              "      <th>address_street</th>\n",
              "      <th>address_city</th>\n",
              "      <th>type</th>\n",
              "      <th>location</th>\n",
              "      <th>description</th>\n",
              "      <th>students</th>\n",
              "      <th>class</th>\n",
              "    </tr>\n",
              "  </thead>\n",
              "  <tbody>\n",
              "    <tr>\n",
              "      <th>0</th>\n",
              "      <td>school:2</td>\n",
              "      <td>Gillford School</td>\n",
              "      <td>Goudhurst</td>\n",
              "      <td>Goudhurst</td>\n",
              "      <td>democratic; waldorf</td>\n",
              "      <td>51.112685, 0.451076</td>\n",
              "      <td>Gillford School is an inclusive learning centr...</td>\n",
              "      <td>721</td>\n",
              "      <td>private</td>\n",
              "    </tr>\n",
              "  </tbody>\n",
              "</table>\n",
              "</div>\n",
              "      <button class=\"colab-df-convert\" onclick=\"convertToInteractive('df-2e3273ab-e3a4-4d86-bece-36c45d7572ac')\"\n",
              "              title=\"Convert this dataframe to an interactive table.\"\n",
              "              style=\"display:none;\">\n",
              "        \n",
              "  <svg xmlns=\"http://www.w3.org/2000/svg\" height=\"24px\"viewBox=\"0 0 24 24\"\n",
              "       width=\"24px\">\n",
              "    <path d=\"M0 0h24v24H0V0z\" fill=\"none\"/>\n",
              "    <path d=\"M18.56 5.44l.94 2.06.94-2.06 2.06-.94-2.06-.94-.94-2.06-.94 2.06-2.06.94zm-11 1L8.5 8.5l.94-2.06 2.06-.94-2.06-.94L8.5 2.5l-.94 2.06-2.06.94zm10 10l.94 2.06.94-2.06 2.06-.94-2.06-.94-.94-2.06-.94 2.06-2.06.94z\"/><path d=\"M17.41 7.96l-1.37-1.37c-.4-.4-.92-.59-1.43-.59-.52 0-1.04.2-1.43.59L10.3 9.45l-7.72 7.72c-.78.78-.78 2.05 0 2.83L4 21.41c.39.39.9.59 1.41.59.51 0 1.02-.2 1.41-.59l7.78-7.78 2.81-2.81c.8-.78.8-2.07 0-2.86zM5.41 20L4 18.59l7.72-7.72 1.47 1.35L5.41 20z\"/>\n",
              "  </svg>\n",
              "      </button>\n",
              "      \n",
              "  <style>\n",
              "    .colab-df-container {\n",
              "      display:flex;\n",
              "      flex-wrap:wrap;\n",
              "      gap: 12px;\n",
              "    }\n",
              "\n",
              "    .colab-df-convert {\n",
              "      background-color: #E8F0FE;\n",
              "      border: none;\n",
              "      border-radius: 50%;\n",
              "      cursor: pointer;\n",
              "      display: none;\n",
              "      fill: #1967D2;\n",
              "      height: 32px;\n",
              "      padding: 0 0 0 0;\n",
              "      width: 32px;\n",
              "    }\n",
              "\n",
              "    .colab-df-convert:hover {\n",
              "      background-color: #E2EBFA;\n",
              "      box-shadow: 0px 1px 2px rgba(60, 64, 67, 0.3), 0px 1px 3px 1px rgba(60, 64, 67, 0.15);\n",
              "      fill: #174EA6;\n",
              "    }\n",
              "\n",
              "    [theme=dark] .colab-df-convert {\n",
              "      background-color: #3B4455;\n",
              "      fill: #D2E3FC;\n",
              "    }\n",
              "\n",
              "    [theme=dark] .colab-df-convert:hover {\n",
              "      background-color: #434B5C;\n",
              "      box-shadow: 0px 1px 3px 1px rgba(0, 0, 0, 0.15);\n",
              "      filter: drop-shadow(0px 1px 2px rgba(0, 0, 0, 0.3));\n",
              "      fill: #FFFFFF;\n",
              "    }\n",
              "  </style>\n",
              "\n",
              "      <script>\n",
              "        const buttonEl =\n",
              "          document.querySelector('#df-2e3273ab-e3a4-4d86-bece-36c45d7572ac button.colab-df-convert');\n",
              "        buttonEl.style.display =\n",
              "          google.colab.kernel.accessAllowed ? 'block' : 'none';\n",
              "\n",
              "        async function convertToInteractive(key) {\n",
              "          const element = document.querySelector('#df-2e3273ab-e3a4-4d86-bece-36c45d7572ac');\n",
              "          const dataTable =\n",
              "            await google.colab.kernel.invokeFunction('convertToInteractive',\n",
              "                                                     [key], {});\n",
              "          if (!dataTable) return;\n",
              "\n",
              "          const docLinkHtml = 'Like what you see? Visit the ' +\n",
              "            '<a target=\"_blank\" href=https://colab.research.google.com/notebooks/data_table.ipynb>data table notebook</a>'\n",
              "            + ' to learn more about interactive tables.';\n",
              "          element.innerHTML = '';\n",
              "          dataTable['output_type'] = 'display_data';\n",
              "          await google.colab.output.renderOutput(dataTable, element);\n",
              "          const docLink = document.createElement('div');\n",
              "          docLink.innerHTML = docLinkHtml;\n",
              "          element.appendChild(docLink);\n",
              "        }\n",
              "      </script>\n",
              "    </div>\n",
              "  </div>\n",
              "  "
            ]
          },
          "metadata": {}
        }
      ]
    },
    {
      "cell_type": "code",
      "execution_count": 15,
      "metadata": {
        "colab": {
          "base_uri": "https://localhost:8080/",
          "height": 112
        },
        "id": "yMK3P7g5j7v5",
        "outputId": "b098e8f1-714e-40ff-8cb8-dcd0f2a983c2"
      },
      "outputs": [
        {
          "output_type": "display_data",
          "data": {
            "text/plain": [
              "         id    city           name students\n",
              "0  school:0  London    Hall School      342\n",
              "1  school:1  London  Garden School     1452"
            ],
            "text/html": [
              "\n",
              "  <div id=\"df-be873617-5d32-4316-be8f-ea53f0fdcb4a\">\n",
              "    <div class=\"colab-df-container\">\n",
              "      <div>\n",
              "<style scoped>\n",
              "    .dataframe tbody tr th:only-of-type {\n",
              "        vertical-align: middle;\n",
              "    }\n",
              "\n",
              "    .dataframe tbody tr th {\n",
              "        vertical-align: top;\n",
              "    }\n",
              "\n",
              "    .dataframe thead th {\n",
              "        text-align: right;\n",
              "    }\n",
              "</style>\n",
              "<table border=\"1\" class=\"dataframe\">\n",
              "  <thead>\n",
              "    <tr style=\"text-align: right;\">\n",
              "      <th></th>\n",
              "      <th>id</th>\n",
              "      <th>city</th>\n",
              "      <th>name</th>\n",
              "      <th>students</th>\n",
              "    </tr>\n",
              "  </thead>\n",
              "  <tbody>\n",
              "    <tr>\n",
              "      <th>0</th>\n",
              "      <td>school:0</td>\n",
              "      <td>London</td>\n",
              "      <td>Hall School</td>\n",
              "      <td>342</td>\n",
              "    </tr>\n",
              "    <tr>\n",
              "      <th>1</th>\n",
              "      <td>school:1</td>\n",
              "      <td>London</td>\n",
              "      <td>Garden School</td>\n",
              "      <td>1452</td>\n",
              "    </tr>\n",
              "  </tbody>\n",
              "</table>\n",
              "</div>\n",
              "      <button class=\"colab-df-convert\" onclick=\"convertToInteractive('df-be873617-5d32-4316-be8f-ea53f0fdcb4a')\"\n",
              "              title=\"Convert this dataframe to an interactive table.\"\n",
              "              style=\"display:none;\">\n",
              "        \n",
              "  <svg xmlns=\"http://www.w3.org/2000/svg\" height=\"24px\"viewBox=\"0 0 24 24\"\n",
              "       width=\"24px\">\n",
              "    <path d=\"M0 0h24v24H0V0z\" fill=\"none\"/>\n",
              "    <path d=\"M18.56 5.44l.94 2.06.94-2.06 2.06-.94-2.06-.94-.94-2.06-.94 2.06-2.06.94zm-11 1L8.5 8.5l.94-2.06 2.06-.94-2.06-.94L8.5 2.5l-.94 2.06-2.06.94zm10 10l.94 2.06.94-2.06 2.06-.94-2.06-.94-.94-2.06-.94 2.06-2.06.94z\"/><path d=\"M17.41 7.96l-1.37-1.37c-.4-.4-.92-.59-1.43-.59-.52 0-1.04.2-1.43.59L10.3 9.45l-7.72 7.72c-.78.78-.78 2.05 0 2.83L4 21.41c.39.39.9.59 1.41.59.51 0 1.02-.2 1.41-.59l7.78-7.78 2.81-2.81c.8-.78.8-2.07 0-2.86zM5.41 20L4 18.59l7.72-7.72 1.47 1.35L5.41 20z\"/>\n",
              "  </svg>\n",
              "      </button>\n",
              "      \n",
              "  <style>\n",
              "    .colab-df-container {\n",
              "      display:flex;\n",
              "      flex-wrap:wrap;\n",
              "      gap: 12px;\n",
              "    }\n",
              "\n",
              "    .colab-df-convert {\n",
              "      background-color: #E8F0FE;\n",
              "      border: none;\n",
              "      border-radius: 50%;\n",
              "      cursor: pointer;\n",
              "      display: none;\n",
              "      fill: #1967D2;\n",
              "      height: 32px;\n",
              "      padding: 0 0 0 0;\n",
              "      width: 32px;\n",
              "    }\n",
              "\n",
              "    .colab-df-convert:hover {\n",
              "      background-color: #E2EBFA;\n",
              "      box-shadow: 0px 1px 2px rgba(60, 64, 67, 0.3), 0px 1px 3px 1px rgba(60, 64, 67, 0.15);\n",
              "      fill: #174EA6;\n",
              "    }\n",
              "\n",
              "    [theme=dark] .colab-df-convert {\n",
              "      background-color: #3B4455;\n",
              "      fill: #D2E3FC;\n",
              "    }\n",
              "\n",
              "    [theme=dark] .colab-df-convert:hover {\n",
              "      background-color: #434B5C;\n",
              "      box-shadow: 0px 1px 3px 1px rgba(0, 0, 0, 0.15);\n",
              "      filter: drop-shadow(0px 1px 2px rgba(0, 0, 0, 0.3));\n",
              "      fill: #FFFFFF;\n",
              "    }\n",
              "  </style>\n",
              "\n",
              "      <script>\n",
              "        const buttonEl =\n",
              "          document.querySelector('#df-be873617-5d32-4316-be8f-ea53f0fdcb4a button.colab-df-convert');\n",
              "        buttonEl.style.display =\n",
              "          google.colab.kernel.accessAllowed ? 'block' : 'none';\n",
              "\n",
              "        async function convertToInteractive(key) {\n",
              "          const element = document.querySelector('#df-be873617-5d32-4316-be8f-ea53f0fdcb4a');\n",
              "          const dataTable =\n",
              "            await google.colab.kernel.invokeFunction('convertToInteractive',\n",
              "                                                     [key], {});\n",
              "          if (!dataTable) return;\n",
              "\n",
              "          const docLinkHtml = 'Like what you see? Visit the ' +\n",
              "            '<a target=\"_blank\" href=https://colab.research.google.com/notebooks/data_table.ipynb>data table notebook</a>'\n",
              "            + ' to learn more about interactive tables.';\n",
              "          element.innerHTML = '';\n",
              "          dataTable['output_type'] = 'display_data';\n",
              "          await google.colab.output.renderOutput(dataTable, element);\n",
              "          const docLink = document.createElement('div');\n",
              "          docLink.innerHTML = docLinkHtml;\n",
              "          element.appendChild(docLink);\n",
              "        }\n",
              "      </script>\n",
              "    </div>\n",
              "  </div>\n",
              "  "
            ]
          },
          "metadata": {}
        }
      ],
      "source": [
        "#Multi-field query\n",
        "query=Query('@city:{London} @students:[0, 10000]') \\\n",
        "   .return_field(\"address_city\", as_field=\"city\") \\\n",
        "   .return_field(\"name\", as_field=\"name\") \\\n",
        "   .return_field(\"students\", as_field=\"students\")\n",
        "res=r.ft(\"idx:schools\").search(query)\n",
        "display_ft(res)\n"
      ]
    },
    {
      "cell_type": "markdown",
      "source": [
        "## Aggregations\n",
        "Aggregations are a way to process the results of a search query, group, sort and transform them - and extract analytic insights from them. Much like aggregation queries in other databases and search engines, they can be used to create analytics reports, or perform Faceted Search style queries.\n",
        "\n",
        "For example, we can group schools by city and count schools per group, giving us the number of schools per city. Or we could group by school class (independent/state) and see the average number of students per group."
      ],
      "metadata": {
        "id": "l9yH6LjsgwGa"
      }
    },
    {
      "cell_type": "code",
      "source": [
        "#Perform aggregation by city and count number of records\n",
        "request = AggregateRequest(f'*').group_by('@city', reducers.count().alias('count'))\n",
        "res = r.ft(\"idx:schools\").aggregate(request)\n",
        "res.rows\n"
      ],
      "metadata": {
        "id": "KxT1MoDQg2tX",
        "outputId": "cffde16a-45ab-4b66-a463-33a3aa07e8b0",
        "colab": {
          "base_uri": "https://localhost:8080/"
        }
      },
      "execution_count": 22,
      "outputs": [
        {
          "output_type": "execute_result",
          "data": {
            "text/plain": [
              "[[b'city', b'London', b'count', b'2'],\n",
              " [b'city', b'Oxford', b'count', b'1'],\n",
              " [b'city', b'Goudhurst', b'count', b'1']]"
            ]
          },
          "metadata": {},
          "execution_count": 22
        }
      ]
    }
  ],
  "metadata": {
    "colab": {
      "provenance": [],
      "include_colab_link": true
    },
    "kernelspec": {
      "display_name": "Python 3",
      "name": "python3"
    },
    "language_info": {
      "name": "python"
    }
  },
  "nbformat": 4,
  "nbformat_minor": 0
}