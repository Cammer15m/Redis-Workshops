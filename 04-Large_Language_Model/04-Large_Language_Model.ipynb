{
  "nbformat": 4,
  "nbformat_minor": 0,
  "metadata": {
    "colab": {
      "provenance": [],
      "gpuType": "T4",
      "authorship_tag": "ABX9TyMax0Wz/9Vfzn/p3zvgNkz8",
      "include_colab_link": true
    },
    "kernelspec": {
      "name": "python3",
      "display_name": "Python 3"
    },
    "language_info": {
      "name": "python"
    },
    "accelerator": "GPU",
    "gpuClass": "standard"
  },
  "cells": [
    {
      "cell_type": "markdown",
      "metadata": {
        "id": "view-in-github",
        "colab_type": "text"
      },
      "source": [
        "<a href=\"https://colab.research.google.com/github/antonum/Redis-Workshops/blob/main/04-Large_Language_Model/04-Large_Language_Model.ipynb\" target=\"_parent\"><img src=\"https://colab.research.google.com/assets/colab-badge.svg\" alt=\"Open In Colab\"/></a>"
      ]
    },
    {
      "cell_type": "markdown",
      "source": [
        "# Large Language Models\n",
        "\n",
        "In this notebook you'll be using two LLMs. OpenAI ChatGPT `gpt-3.5-turbo`and Self - hosted in - notebook `databricks/dolly-v2`. "
      ],
      "metadata": {
        "id": "4AkZOYLVbc6m"
      }
    },
    {
      "cell_type": "code",
      "execution_count": 3,
      "metadata": {
        "id": "RBmXNV2Qpkhe"
      },
      "outputs": [],
      "source": [
        "%pip -q install openai accelerate transformers sentence-transformers\n"
      ]
    },
    {
      "cell_type": "markdown",
      "source": [
        "Initialize OpenAI. You need to supply the OpenAI API key (starts with `sk-...`) when prompted."
      ],
      "metadata": {
        "id": "CUa-ZQkNchnc"
      }
    },
    {
      "cell_type": "code",
      "source": [
        "import openai\n",
        "import os\n",
        "import getpass\n",
        "\n",
        "OPENAI_API_KEY = os.getenv(\"OPENAI_API_KEY\",\"\")\n",
        "if OPENAI_API_KEY == \"\":\n",
        "    key=getpass.getpass(prompt='OpenAI Key: ', stream=None)\n",
        "    os.environ['OPENAI_API_KEY']=key\n",
        "    \n",
        "openai.api_key = os.getenv(\"OPENAI_API_KEY\")"
      ],
      "metadata": {
        "id": "Z8R4COiD08Ux",
        "colab": {
          "base_uri": "https://localhost:8080/"
        },
        "outputId": "95f0954f-8189-48ec-dcac-7ec2c1b67a2e"
      },
      "execution_count": 4,
      "outputs": [
        {
          "name": "stdout",
          "output_type": "stream",
          "text": [
            "OpenAI Key: ··········\n"
          ]
        }
      ]
    },
    {
      "cell_type": "markdown",
      "source": [
        "Initialize `databricks/dolly-v2-3b` via [HuggingFace](https://huggingface.co/databricks/dolly-v2-3b). Multiple progressively more powerful models are avaliable, including 3b, 7b and 12b (referring to Billions of parameters). `dolly-v2-3b` is the only model in the family that would fit in the memory and GPU available in a free Google Colab instance.\n",
        "\n",
        "Loading and initializing the model can take few miutes."
      ],
      "metadata": {
        "id": "c-lVNefzcxRq"
      }
    },
    {
      "cell_type": "code",
      "source": [
        "import torch\n",
        "from transformers import pipeline\n",
        "\n",
        "generate_text = pipeline(model=\"databricks/dolly-v2-3b\", \n",
        "                         torch_dtype=torch.bfloat16, \n",
        "                         trust_remote_code=True, \n",
        "                         device_map=\"auto\")\n"
      ],
      "metadata": {
        "id": "wBZG4fmnpoiR"
      },
      "execution_count": 5,
      "outputs": []
    },
    {
      "cell_type": "markdown",
      "source": [
        "Helper function for OpenAI ChatGPT model"
      ],
      "metadata": {
        "id": "c4kBXv65d2Sj"
      }
    },
    {
      "cell_type": "code",
      "source": [
        "def get_completion(prompt, model=\"gpt-3.5-turbo\"):\n",
        "    messages = [{\"role\": \"user\", \"content\": prompt}]\n",
        "    response = openai.ChatCompletion.create(\n",
        "        model=model,\n",
        "        messages=messages,\n",
        "        \n",
        "        temperature=0, # this is the degree of randomness of the model's output\n",
        "    )\n",
        "    return response"
      ],
      "metadata": {
        "id": "73GvlwaM07b-"
      },
      "execution_count": 11,
      "outputs": []
    },
    {
      "cell_type": "markdown",
      "source": [
        "# Create the prompt\n",
        "\n",
        "Prompt contains instructions, context and the question. Feel free to exteriment with the prompt and see the difference in responses from different models."
      ],
      "metadata": {
        "id": "cAY1sbW-d3os"
      }
    },
    {
      "cell_type": "code",
      "source": [
        "context = \"\"\"\n",
        "\n",
        "Disney on Thursday upped the ante in its battle with Florida’s Republican Gov. Ron DeSantis, and it cost his state 2,000 white-collar jobs.\n",
        "\n",
        "Disney is scrapping plans to build a $1 billion office complex in Florida, citing “changing business conditions,” according to a memo provided by a Disney spokesperson.\n",
        "\n",
        "The decision comes at a time when the company is openly feuding with DeSantis, who is expected to officially enter the 2024 GOP presidential race next week, CNN reported Thursday.\n",
        "\n",
        "A spokesperson for DeSantis said it was “unsurprising” that Disney would cancel the project “given the company’s financial straits, falling market cap and declining stock price.”\n",
        "\n",
        "Disney, along with the broader media industry, is grappling with a difficult advertising environment and a massive writers strike. Earlier this year it announced it would be cutting 7,000 jobs as part of a cost-cutting effort.\n",
        "\n",
        "Separately, the company confirmed Thursday that it would shut down its Star Wars: Galactic Starcruiser resort at Disney World just over a year after it opened.\n",
        "\n",
        "The popular attraction “will take its final voyage” at the end of September, Disney said, adding that it is working with guests to rebook reservations for later in the year.\n",
        "\"\"\"\n",
        "\n",
        "question=\"What plans Disney is cancelling?\"\n",
        "\n",
        "prompt = f\"\"\"\n",
        "Instruction: Use only information in the following context to answer the question at the end. \n",
        "If you don't know, say that you do not know. \n",
        " \n",
        "Context:  {context}\n",
        " \n",
        "Question: {question}\n",
        " \n",
        "Response:\n",
        "\"\"\"\n",
        "print(prompt)\n",
        "\n",
        "res = generate_text(prompt)\n",
        "print(\"Dolly:\")\n",
        "print(res[0]['generated_text'])\n",
        "\n",
        "\n",
        "res = get_completion(prompt)\n",
        "print(\"\\nOpenAI:\")\n",
        "print(res.choices[0].message[\"content\"])"
      ],
      "metadata": {
        "colab": {
          "base_uri": "https://localhost:8080/"
        },
        "id": "hwO9x-kypsst",
        "outputId": "b64086f9-ea8e-4641-c615-5b39f10d818b"
      },
      "execution_count": 15,
      "outputs": [
        {
          "output_type": "stream",
          "name": "stdout",
          "text": [
            "\n",
            "Instruction: Use only information in the following context to answer the question at the end. \n",
            "If you don't know, say that you do not know. \n",
            " \n",
            "Context:  \n",
            "\n",
            "Disney on Thursday upped the ante in its battle with Florida’s Republican Gov. Ron DeSantis, and it cost his state 2,000 white-collar jobs.\n",
            "\n",
            "Disney is scrapping plans to build a $1 billion office complex in Florida, citing “changing business conditions,” according to a memo provided by a Disney spokesperson.\n",
            "\n",
            "The decision comes at a time when the company is openly feuding with DeSantis, who is expected to officially enter the 2024 GOP presidential race next week, CNN reported Thursday.\n",
            "\n",
            "A spokesperson for DeSantis said it was “unsurprising” that Disney would cancel the project “given the company’s financial straits, falling market cap and declining stock price.”\n",
            "\n",
            "Disney, along with the broader media industry, is grappling with a difficult advertising environment and a massive writers strike. Earlier this year it announced it would be cutting 7,000 jobs as part of a cost-cutting effort.\n",
            "\n",
            "Separately, the company confirmed Thursday that it would shut down its Star Wars: Galactic Starcruiser resort at Disney World just over a year after it opened.\n",
            "\n",
            "The popular attraction “will take its final voyage” at the end of September, Disney said, adding that it is working with guests to rebook reservations for later in the year.\n",
            "\n",
            " \n",
            "Question: What plans Disney is cancelling?\n",
            " \n",
            "Response:\n",
            "\n",
            "Dolly:\n",
            "Disney is scrapping plans to build a $1 billion office complex in Florida, citing “changing business conditions,” according to a memo provided by a Disney spokesperson.\n",
            "The decision comes at a time when the company is openly feuding with DeSantis, who is expected to officially enter the 2024 GOP presidential race next week, CNN reported Thursday.\n",
            "A spokesperson for DeSantis said it was “unsurprising” that Disney would cancel the project “given the company’s financial straits, falling market cap and declining stock price.”\n",
            "\n",
            "OpenAI:\n",
            "Disney is cancelling plans to build a $1 billion office complex in Florida.\n"
          ]
        }
      ]
    },
    {
      "cell_type": "markdown",
      "source": [
        "## TODO:\n",
        "\n",
        "Some ideas for you to try: \n",
        "- add \"Respond in French/Spanish\" to the prompt.\n",
        "\n",
        "-  more information into the context until you hit the token limit of the model.\n",
        "\n",
        "- Replace the entire prompt with a simple task like \"Tell me about Newmarket, Ontario\""
      ],
      "metadata": {
        "id": "VBEIzCOCZUBB"
      }
    },
    {
      "cell_type": "code",
      "source": [
        "#generated_text(\"Tell me about Newmarket, Ontario\")\n",
        "#get_completion(\"Tell me about Newmarket, Ontario\")"
      ],
      "metadata": {
        "id": "QWnI5NVkfa8L"
      },
      "execution_count": 10,
      "outputs": []
    }
  ]
}